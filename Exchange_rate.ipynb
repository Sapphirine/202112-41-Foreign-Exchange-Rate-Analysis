{
  "nbformat": 4,
  "nbformat_minor": 0,
  "metadata": {
    "colab": {
      "name": "Exchange_rate.ipynb",
      "provenance": [],
      "collapsed_sections": []
    },
    "kernelspec": {
      "name": "python3",
      "display_name": "Python 3"
    },
    "language_info": {
      "name": "python"
    }
  },
  "cells": [
    {
      "cell_type": "code",
      "execution_count": null,
      "metadata": {
        "colab": {
          "base_uri": "https://localhost:8080/"
        },
        "id": "VKdyHUlqoNXz",
        "outputId": "f6467591-a7b5-43ae-951a-4bf18e0120f8"
      },
      "outputs": [
        {
          "output_type": "stream",
          "name": "stdout",
          "text": [
            "Requirement already satisfied: numpy in /usr/local/lib/python3.7/dist-packages (1.19.5)\n",
            "Requirement already satisfied: scipy in /usr/local/lib/python3.7/dist-packages (1.4.1)\n",
            "Requirement already satisfied: numpy>=1.13.3 in /usr/local/lib/python3.7/dist-packages (from scipy) (1.19.5)\n",
            "Requirement already satisfied: scikit-learn in /usr/local/lib/python3.7/dist-packages (1.0.1)\n",
            "Requirement already satisfied: joblib>=0.11 in /usr/local/lib/python3.7/dist-packages (from scikit-learn) (1.1.0)\n",
            "Requirement already satisfied: numpy>=1.14.6 in /usr/local/lib/python3.7/dist-packages (from scikit-learn) (1.19.5)\n",
            "Requirement already satisfied: threadpoolctl>=2.0.0 in /usr/local/lib/python3.7/dist-packages (from scikit-learn) (3.0.0)\n",
            "Requirement already satisfied: scipy>=1.1.0 in /usr/local/lib/python3.7/dist-packages (from scikit-learn) (1.4.1)\n",
            "Requirement already satisfied: matplotlib in /usr/local/lib/python3.7/dist-packages (3.2.2)\n",
            "Requirement already satisfied: cycler>=0.10 in /usr/local/lib/python3.7/dist-packages (from matplotlib) (0.11.0)\n",
            "Requirement already satisfied: pyparsing!=2.0.4,!=2.1.2,!=2.1.6,>=2.0.1 in /usr/local/lib/python3.7/dist-packages (from matplotlib) (3.0.6)\n",
            "Requirement already satisfied: numpy>=1.11 in /usr/local/lib/python3.7/dist-packages (from matplotlib) (1.19.5)\n",
            "Requirement already satisfied: kiwisolver>=1.0.1 in /usr/local/lib/python3.7/dist-packages (from matplotlib) (1.3.2)\n",
            "Requirement already satisfied: python-dateutil>=2.1 in /usr/local/lib/python3.7/dist-packages (from matplotlib) (2.8.2)\n",
            "Requirement already satisfied: six>=1.5 in /usr/local/lib/python3.7/dist-packages (from python-dateutil>=2.1->matplotlib) (1.15.0)\n",
            "Requirement already satisfied: pandas in /usr/local/lib/python3.7/dist-packages (1.1.5)\n",
            "Requirement already satisfied: python-dateutil>=2.7.3 in /usr/local/lib/python3.7/dist-packages (from pandas) (2.8.2)\n",
            "Requirement already satisfied: numpy>=1.15.4 in /usr/local/lib/python3.7/dist-packages (from pandas) (1.19.5)\n",
            "Requirement already satisfied: pytz>=2017.2 in /usr/local/lib/python3.7/dist-packages (from pandas) (2018.9)\n",
            "Requirement already satisfied: six>=1.5 in /usr/local/lib/python3.7/dist-packages (from python-dateutil>=2.7.3->pandas) (1.15.0)\n"
          ]
        }
      ],
      "source": [
        "# Install packages\n",
        "!pip install numpy\n",
        "!pip install scipy\n",
        "!pip install scikit-learn\n",
        "!pip install matplotlib\n",
        "!pip install pandas"
      ]
    },
    {
      "cell_type": "code",
      "source": [
        "!pip install yfinance --upgrade --no-cache-dir"
      ],
      "metadata": {
        "colab": {
          "base_uri": "https://localhost:8080/"
        },
        "id": "ZnWUBgqCohTh",
        "outputId": "9f3e34a1-788f-45b0-efbf-f9c16abfb558"
      },
      "execution_count": null,
      "outputs": [
        {
          "output_type": "stream",
          "name": "stdout",
          "text": [
            "Collecting yfinance\n",
            "  Downloading yfinance-0.1.67-py2.py3-none-any.whl (25 kB)\n",
            "Requirement already satisfied: requests>=2.20 in /usr/local/lib/python3.7/dist-packages (from yfinance) (2.23.0)\n",
            "Collecting lxml>=4.5.1\n",
            "  Downloading lxml-4.7.1-cp37-cp37m-manylinux_2_17_x86_64.manylinux2014_x86_64.manylinux_2_24_x86_64.whl (6.4 MB)\n",
            "\u001b[K     |████████████████████████████████| 6.4 MB 11.3 MB/s \n",
            "\u001b[?25hRequirement already satisfied: multitasking>=0.0.7 in /usr/local/lib/python3.7/dist-packages (from yfinance) (0.0.10)\n",
            "Requirement already satisfied: pandas>=0.24 in /usr/local/lib/python3.7/dist-packages (from yfinance) (1.1.5)\n",
            "Requirement already satisfied: numpy>=1.15 in /usr/local/lib/python3.7/dist-packages (from yfinance) (1.19.5)\n",
            "Requirement already satisfied: python-dateutil>=2.7.3 in /usr/local/lib/python3.7/dist-packages (from pandas>=0.24->yfinance) (2.8.2)\n",
            "Requirement already satisfied: pytz>=2017.2 in /usr/local/lib/python3.7/dist-packages (from pandas>=0.24->yfinance) (2018.9)\n",
            "Requirement already satisfied: six>=1.5 in /usr/local/lib/python3.7/dist-packages (from python-dateutil>=2.7.3->pandas>=0.24->yfinance) (1.15.0)\n",
            "Requirement already satisfied: idna<3,>=2.5 in /usr/local/lib/python3.7/dist-packages (from requests>=2.20->yfinance) (2.10)\n",
            "Requirement already satisfied: certifi>=2017.4.17 in /usr/local/lib/python3.7/dist-packages (from requests>=2.20->yfinance) (2021.10.8)\n",
            "Requirement already satisfied: urllib3!=1.25.0,!=1.25.1,<1.26,>=1.21.1 in /usr/local/lib/python3.7/dist-packages (from requests>=2.20->yfinance) (1.24.3)\n",
            "Requirement already satisfied: chardet<4,>=3.0.2 in /usr/local/lib/python3.7/dist-packages (from requests>=2.20->yfinance) (3.0.4)\n",
            "Installing collected packages: lxml, yfinance\n",
            "  Attempting uninstall: lxml\n",
            "    Found existing installation: lxml 4.2.6\n",
            "    Uninstalling lxml-4.2.6:\n",
            "      Successfully uninstalled lxml-4.2.6\n",
            "Successfully installed lxml-4.7.1 yfinance-0.1.67\n"
          ]
        }
      ]
    },
    {
      "cell_type": "code",
      "source": [
        "# extract data from yahoo finance\n",
        "import yfinance as yf\n",
        "df = yf.download(  # or pdr.get_data_yahoo(...\n",
        "        # tickers list or string as well\n",
        "        tickers = \"USDCNY=X\",\n",
        "\n",
        "        # use \"period\" instead of start/end\n",
        "        # valid periods: 1d,5d,1mo,3mo,6mo,1y,2y,5y,10y,ytd,max\n",
        "        # (optional, default is '1mo')\n",
        "        period = \"5y\",\n",
        "\n",
        "        # fetch data by interval (including intraday if period < 60 days)\n",
        "        # valid intervals: 1m,2m,5m,15m,30m,60m,90m,1h,1d,5d,1wk,1mo,3mo\n",
        "        # (optional, default is '1d')\n",
        "        interval = \"1d\",\n",
        "\n",
        "        # group by ticker (to access via data['SPY'])\n",
        "        # (optional, default is 'column')\n",
        "        group_by = 'ticker',\n",
        "\n",
        "        # adjust all OHLC automatically\n",
        "        # (optional, default is False)\n",
        "        auto_adjust = True,\n",
        "\n",
        "        # download pre/post regular market hours data\n",
        "        # (optional, default is False)\n",
        "        prepost = True,\n",
        "\n",
        "         # use threads for mass downloading? (True/False/Integer)\n",
        "        # (optional, default is True)\n",
        "        threads = True,\n",
        "\n",
        "        # proxy URL scheme use use when downloading?\n",
        "        # (optional, default is None)\n",
        "        proxy = None\n",
        "    )"
      ],
      "metadata": {
        "colab": {
          "base_uri": "https://localhost:8080/"
        },
        "id": "ZuepZ79_omfY",
        "outputId": "3f305a4f-59cd-41a2-e7e0-1bfa227cf70c"
      },
      "execution_count": null,
      "outputs": [
        {
          "output_type": "stream",
          "name": "stdout",
          "text": [
            "\r[*********************100%***********************]  1 of 1 completed\n"
          ]
        }
      ]
    },
    {
      "cell_type": "code",
      "source": [
        "df.head()"
      ],
      "metadata": {
        "colab": {
          "base_uri": "https://localhost:8080/",
          "height": 237
        },
        "id": "TSnTII0po6Vu",
        "outputId": "87c5f1c9-bfb0-4604-ff6f-8d0d260dfb36"
      },
      "execution_count": null,
      "outputs": [
        {
          "output_type": "execute_result",
          "data": {
            "text/html": [
              "\n",
              "  <div id=\"df-1608465a-6e6b-47b9-a8aa-6eef13c7e500\">\n",
              "    <div class=\"colab-df-container\">\n",
              "      <div>\n",
              "<style scoped>\n",
              "    .dataframe tbody tr th:only-of-type {\n",
              "        vertical-align: middle;\n",
              "    }\n",
              "\n",
              "    .dataframe tbody tr th {\n",
              "        vertical-align: top;\n",
              "    }\n",
              "\n",
              "    .dataframe thead th {\n",
              "        text-align: right;\n",
              "    }\n",
              "</style>\n",
              "<table border=\"1\" class=\"dataframe\">\n",
              "  <thead>\n",
              "    <tr style=\"text-align: right;\">\n",
              "      <th></th>\n",
              "      <th>Open</th>\n",
              "      <th>High</th>\n",
              "      <th>Low</th>\n",
              "      <th>Close</th>\n",
              "      <th>Volume</th>\n",
              "    </tr>\n",
              "    <tr>\n",
              "      <th>Date</th>\n",
              "      <th></th>\n",
              "      <th></th>\n",
              "      <th></th>\n",
              "      <th></th>\n",
              "      <th></th>\n",
              "    </tr>\n",
              "  </thead>\n",
              "  <tbody>\n",
              "    <tr>\n",
              "      <th>2016-12-19</th>\n",
              "      <td>6.9583</td>\n",
              "      <td>6.9588</td>\n",
              "      <td>6.9347</td>\n",
              "      <td>6.9583</td>\n",
              "      <td>0</td>\n",
              "    </tr>\n",
              "    <tr>\n",
              "      <th>2016-12-20</th>\n",
              "      <td>6.9530</td>\n",
              "      <td>6.9562</td>\n",
              "      <td>6.9408</td>\n",
              "      <td>6.9530</td>\n",
              "      <td>0</td>\n",
              "    </tr>\n",
              "    <tr>\n",
              "      <th>2016-12-21</th>\n",
              "      <td>6.9498</td>\n",
              "      <td>6.9503</td>\n",
              "      <td>6.9393</td>\n",
              "      <td>6.9498</td>\n",
              "      <td>0</td>\n",
              "    </tr>\n",
              "    <tr>\n",
              "      <th>2016-12-22</th>\n",
              "      <td>6.9414</td>\n",
              "      <td>6.9494</td>\n",
              "      <td>6.9411</td>\n",
              "      <td>6.9414</td>\n",
              "      <td>0</td>\n",
              "    </tr>\n",
              "    <tr>\n",
              "      <th>2016-12-23</th>\n",
              "      <td>6.9493</td>\n",
              "      <td>6.9494</td>\n",
              "      <td>6.9361</td>\n",
              "      <td>6.9404</td>\n",
              "      <td>0</td>\n",
              "    </tr>\n",
              "  </tbody>\n",
              "</table>\n",
              "</div>\n",
              "      <button class=\"colab-df-convert\" onclick=\"convertToInteractive('df-1608465a-6e6b-47b9-a8aa-6eef13c7e500')\"\n",
              "              title=\"Convert this dataframe to an interactive table.\"\n",
              "              style=\"display:none;\">\n",
              "        \n",
              "  <svg xmlns=\"http://www.w3.org/2000/svg\" height=\"24px\"viewBox=\"0 0 24 24\"\n",
              "       width=\"24px\">\n",
              "    <path d=\"M0 0h24v24H0V0z\" fill=\"none\"/>\n",
              "    <path d=\"M18.56 5.44l.94 2.06.94-2.06 2.06-.94-2.06-.94-.94-2.06-.94 2.06-2.06.94zm-11 1L8.5 8.5l.94-2.06 2.06-.94-2.06-.94L8.5 2.5l-.94 2.06-2.06.94zm10 10l.94 2.06.94-2.06 2.06-.94-2.06-.94-.94-2.06-.94 2.06-2.06.94z\"/><path d=\"M17.41 7.96l-1.37-1.37c-.4-.4-.92-.59-1.43-.59-.52 0-1.04.2-1.43.59L10.3 9.45l-7.72 7.72c-.78.78-.78 2.05 0 2.83L4 21.41c.39.39.9.59 1.41.59.51 0 1.02-.2 1.41-.59l7.78-7.78 2.81-2.81c.8-.78.8-2.07 0-2.86zM5.41 20L4 18.59l7.72-7.72 1.47 1.35L5.41 20z\"/>\n",
              "  </svg>\n",
              "      </button>\n",
              "      \n",
              "  <style>\n",
              "    .colab-df-container {\n",
              "      display:flex;\n",
              "      flex-wrap:wrap;\n",
              "      gap: 12px;\n",
              "    }\n",
              "\n",
              "    .colab-df-convert {\n",
              "      background-color: #E8F0FE;\n",
              "      border: none;\n",
              "      border-radius: 50%;\n",
              "      cursor: pointer;\n",
              "      display: none;\n",
              "      fill: #1967D2;\n",
              "      height: 32px;\n",
              "      padding: 0 0 0 0;\n",
              "      width: 32px;\n",
              "    }\n",
              "\n",
              "    .colab-df-convert:hover {\n",
              "      background-color: #E2EBFA;\n",
              "      box-shadow: 0px 1px 2px rgba(60, 64, 67, 0.3), 0px 1px 3px 1px rgba(60, 64, 67, 0.15);\n",
              "      fill: #174EA6;\n",
              "    }\n",
              "\n",
              "    [theme=dark] .colab-df-convert {\n",
              "      background-color: #3B4455;\n",
              "      fill: #D2E3FC;\n",
              "    }\n",
              "\n",
              "    [theme=dark] .colab-df-convert:hover {\n",
              "      background-color: #434B5C;\n",
              "      box-shadow: 0px 1px 3px 1px rgba(0, 0, 0, 0.15);\n",
              "      filter: drop-shadow(0px 1px 2px rgba(0, 0, 0, 0.3));\n",
              "      fill: #FFFFFF;\n",
              "    }\n",
              "  </style>\n",
              "\n",
              "      <script>\n",
              "        const buttonEl =\n",
              "          document.querySelector('#df-1608465a-6e6b-47b9-a8aa-6eef13c7e500 button.colab-df-convert');\n",
              "        buttonEl.style.display =\n",
              "          google.colab.kernel.accessAllowed ? 'block' : 'none';\n",
              "\n",
              "        async function convertToInteractive(key) {\n",
              "          const element = document.querySelector('#df-1608465a-6e6b-47b9-a8aa-6eef13c7e500');\n",
              "          const dataTable =\n",
              "            await google.colab.kernel.invokeFunction('convertToInteractive',\n",
              "                                                     [key], {});\n",
              "          if (!dataTable) return;\n",
              "\n",
              "          const docLinkHtml = 'Like what you see? Visit the ' +\n",
              "            '<a target=\"_blank\" href=https://colab.research.google.com/notebooks/data_table.ipynb>data table notebook</a>'\n",
              "            + ' to learn more about interactive tables.';\n",
              "          element.innerHTML = '';\n",
              "          dataTable['output_type'] = 'display_data';\n",
              "          await google.colab.output.renderOutput(dataTable, element);\n",
              "          const docLink = document.createElement('div');\n",
              "          docLink.innerHTML = docLinkHtml;\n",
              "          element.appendChild(docLink);\n",
              "        }\n",
              "      </script>\n",
              "    </div>\n",
              "  </div>\n",
              "  "
            ],
            "text/plain": [
              "              Open    High     Low   Close  Volume\n",
              "Date                                              \n",
              "2016-12-19  6.9583  6.9588  6.9347  6.9583       0\n",
              "2016-12-20  6.9530  6.9562  6.9408  6.9530       0\n",
              "2016-12-21  6.9498  6.9503  6.9393  6.9498       0\n",
              "2016-12-22  6.9414  6.9494  6.9411  6.9414       0\n",
              "2016-12-23  6.9493  6.9494  6.9361  6.9404       0"
            ]
          },
          "metadata": {},
          "execution_count": 8
        }
      ]
    },
    {
      "cell_type": "code",
      "source": [
        "df.shape"
      ],
      "metadata": {
        "id": "xCTZGDF5pq6i",
        "outputId": "6c5618ea-9f2b-4d62-a27b-c4ec99c50ec6",
        "colab": {
          "base_uri": "https://localhost:8080/"
        }
      },
      "execution_count": null,
      "outputs": [
        {
          "output_type": "execute_result",
          "data": {
            "text/plain": [
              "(1301, 5)"
            ]
          },
          "metadata": {},
          "execution_count": 9
        }
      ]
    },
    {
      "cell_type": "code",
      "source": [
        "import pandas as pd\n",
        "import numpy as np\n",
        "import matplotlib.pyplot as plt\n",
        "%matplotlib inline\n",
        "import tensorflow as tf\n",
        "import keras\n",
        "from sklearn.preprocessing import MinMaxScaler\n",
        "\n",
        "# For LSTM\n",
        "from keras.models import Sequential\n",
        "from keras.layers import Dense,LSTM\n",
        "from sklearn.metrics import mean_squared_error\n",
        "\n",
        "# For Arima\n",
        "import statsmodels.api as sm\n",
        "from statsmodels.tsa.statespace import sarimax\n",
        "from sklearn.metrics import accuracy_score, confusion_matrix,classification_report, r2_score,mean_absolute_error,mean_squared_error"
      ],
      "metadata": {
        "id": "wWtqnjk0rKPh",
        "colab": {
          "base_uri": "https://localhost:8080/"
        },
        "outputId": "c57b4269-b2e0-48e1-c6ac-013dd647b0ed"
      },
      "execution_count": null,
      "outputs": [
        {
          "output_type": "stream",
          "name": "stderr",
          "text": [
            "/usr/local/lib/python3.7/dist-packages/statsmodels/tools/_testing.py:19: FutureWarning: pandas.util.testing is deprecated. Use the functions in the public API at pandas.testing instead.\n",
            "  import pandas.util.testing as tm\n"
          ]
        }
      ]
    },
    {
      "cell_type": "code",
      "source": [
        "# fix random seed\n",
        "np.random.seed(7)"
      ],
      "metadata": {
        "id": "dHkxzr_XUCYR"
      },
      "execution_count": null,
      "outputs": []
    },
    {
      "cell_type": "code",
      "source": [
        "df_new = df['Close']\n",
        "df_new = np.array(df_new).reshape(-1,1)\n",
        "\n",
        "# normalize the dataset\n",
        "scaler = MinMaxScaler(feature_range=(0, 1))\n",
        "df_new = scaler.fit_transform(df_new)"
      ],
      "metadata": {
        "id": "7tt9twxNry_o"
      },
      "execution_count": null,
      "outputs": []
    },
    {
      "cell_type": "code",
      "source": [
        "# 30 days for test\n",
        "train, test = df_new[:-30], df_new[-30:]\n",
        "\n",
        "#Processing for LSTM model\n",
        "def update(data, look_back=1):\n",
        "  x, y = [], []\n",
        "  for i in range(len(data)-look_back-1):\n",
        "    x.append(data[i:(i+look_back), 0])\n",
        "    y.append(data[i+look_back, 0])\n",
        "  return np.array(x), np.array(y)\n",
        "\n",
        "x_train , y_train = update(train)\n",
        "x_test , y_test = update(test)"
      ],
      "metadata": {
        "id": "qt5kafvhvLBk"
      },
      "execution_count": null,
      "outputs": []
    },
    {
      "cell_type": "code",
      "source": [
        "x_train = x_train.reshape(x_train.shape[0],x_train.shape[1], 1)\n",
        "x_test = x_test.reshape(x_test.shape[0],x_test.shape[1], 1)"
      ],
      "metadata": {
        "id": "UvY7TYJYz2Yo"
      },
      "execution_count": null,
      "outputs": []
    },
    {
      "cell_type": "code",
      "source": [
        "x_train.shape"
      ],
      "metadata": {
        "colab": {
          "base_uri": "https://localhost:8080/"
        },
        "id": "vH4RfVBdV_xc",
        "outputId": "ffd2d9c8-1895-4f00-a545-d574fc435634"
      },
      "execution_count": null,
      "outputs": [
        {
          "output_type": "execute_result",
          "data": {
            "text/plain": [
              "(1269, 1, 1)"
            ]
          },
          "metadata": {},
          "execution_count": 27
        }
      ]
    },
    {
      "cell_type": "code",
      "source": [
        "# define the model\n",
        "model = Sequential()\n",
        "model.add(LSTM(5, activation='relu', input_shape=(1,1)))\n",
        "#model.add(LSTM(100, activation='relu', input_shape=(1,1)))\n",
        "model.add(Dense(1))"
      ],
      "metadata": {
        "id": "lP_xiWvdtF4N"
      },
      "execution_count": null,
      "outputs": []
    },
    {
      "cell_type": "code",
      "source": [
        "model.summary()"
      ],
      "metadata": {
        "colab": {
          "base_uri": "https://localhost:8080/"
        },
        "id": "Vfftpyn7V3K4",
        "outputId": "eaaefc51-9675-4d96-8a50-33c72da5aee1"
      },
      "execution_count": null,
      "outputs": [
        {
          "output_type": "stream",
          "name": "stdout",
          "text": [
            "Model: \"sequential_1\"\n",
            "_________________________________________________________________\n",
            " Layer (type)                Output Shape              Param #   \n",
            "=================================================================\n",
            " lstm_1 (LSTM)               (None, 5)                 140       \n",
            "                                                                 \n",
            " dense_1 (Dense)             (None, 1)                 6         \n",
            "                                                                 \n",
            "=================================================================\n",
            "Total params: 146\n",
            "Trainable params: 146\n",
            "Non-trainable params: 0\n",
            "_________________________________________________________________\n"
          ]
        }
      ]
    },
    {
      "cell_type": "code",
      "source": [
        "model.compile(optimizer='adam', loss = 'mse')\n",
        "model.fit(x_train,y_train, epochs = 100, batch_size=1, verbose=2)"
      ],
      "metadata": {
        "id": "xEy0XUp0tf4x",
        "outputId": "0de4f2bd-f2ea-409a-ce84-d9e1e2033e05",
        "colab": {
          "base_uri": "https://localhost:8080/"
        }
      },
      "execution_count": null,
      "outputs": [
        {
          "output_type": "stream",
          "name": "stdout",
          "text": [
            "Epoch 1/100\n",
            "1269/1269 - 4s - loss: 0.0484 - 4s/epoch - 3ms/step\n",
            "Epoch 2/100\n",
            "1269/1269 - 2s - loss: 0.0012 - 2s/epoch - 2ms/step\n",
            "Epoch 3/100\n",
            "1269/1269 - 2s - loss: 4.5519e-04 - 2s/epoch - 2ms/step\n",
            "Epoch 4/100\n",
            "1269/1269 - 3s - loss: 4.4987e-04 - 3s/epoch - 3ms/step\n",
            "Epoch 5/100\n",
            "1269/1269 - 3s - loss: 4.5903e-04 - 3s/epoch - 2ms/step\n",
            "Epoch 6/100\n",
            "1269/1269 - 3s - loss: 4.6466e-04 - 3s/epoch - 2ms/step\n",
            "Epoch 7/100\n",
            "1269/1269 - 3s - loss: 4.4918e-04 - 3s/epoch - 2ms/step\n",
            "Epoch 8/100\n",
            "1269/1269 - 3s - loss: 4.4017e-04 - 3s/epoch - 2ms/step\n",
            "Epoch 9/100\n",
            "1269/1269 - 4s - loss: 4.3491e-04 - 4s/epoch - 3ms/step\n",
            "Epoch 10/100\n",
            "1269/1269 - 2s - loss: 4.3790e-04 - 2s/epoch - 2ms/step\n",
            "Epoch 11/100\n",
            "1269/1269 - 2s - loss: 4.3904e-04 - 2s/epoch - 2ms/step\n",
            "Epoch 12/100\n",
            "1269/1269 - 2s - loss: 4.4661e-04 - 2s/epoch - 2ms/step\n",
            "Epoch 13/100\n",
            "1269/1269 - 2s - loss: 4.4032e-04 - 2s/epoch - 2ms/step\n",
            "Epoch 14/100\n",
            "1269/1269 - 2s - loss: 4.4815e-04 - 2s/epoch - 2ms/step\n",
            "Epoch 15/100\n",
            "1269/1269 - 2s - loss: 4.4333e-04 - 2s/epoch - 2ms/step\n",
            "Epoch 16/100\n",
            "1269/1269 - 3s - loss: 4.4652e-04 - 3s/epoch - 2ms/step\n",
            "Epoch 17/100\n",
            "1269/1269 - 2s - loss: 4.3506e-04 - 2s/epoch - 2ms/step\n",
            "Epoch 18/100\n",
            "1269/1269 - 3s - loss: 4.5163e-04 - 3s/epoch - 2ms/step\n",
            "Epoch 19/100\n",
            "1269/1269 - 2s - loss: 4.5187e-04 - 2s/epoch - 2ms/step\n",
            "Epoch 20/100\n",
            "1269/1269 - 2s - loss: 4.6070e-04 - 2s/epoch - 2ms/step\n",
            "Epoch 21/100\n",
            "1269/1269 - 2s - loss: 4.4658e-04 - 2s/epoch - 2ms/step\n",
            "Epoch 22/100\n",
            "1269/1269 - 2s - loss: 4.4790e-04 - 2s/epoch - 2ms/step\n",
            "Epoch 23/100\n",
            "1269/1269 - 2s - loss: 4.4291e-04 - 2s/epoch - 2ms/step\n",
            "Epoch 24/100\n",
            "1269/1269 - 2s - loss: 4.5564e-04 - 2s/epoch - 2ms/step\n",
            "Epoch 25/100\n",
            "1269/1269 - 2s - loss: 4.4829e-04 - 2s/epoch - 2ms/step\n",
            "Epoch 26/100\n",
            "1269/1269 - 2s - loss: 4.5073e-04 - 2s/epoch - 2ms/step\n",
            "Epoch 27/100\n",
            "1269/1269 - 2s - loss: 4.4009e-04 - 2s/epoch - 2ms/step\n",
            "Epoch 28/100\n",
            "1269/1269 - 2s - loss: 4.5396e-04 - 2s/epoch - 2ms/step\n",
            "Epoch 29/100\n",
            "1269/1269 - 2s - loss: 4.4091e-04 - 2s/epoch - 2ms/step\n",
            "Epoch 30/100\n",
            "1269/1269 - 2s - loss: 4.4361e-04 - 2s/epoch - 2ms/step\n",
            "Epoch 31/100\n",
            "1269/1269 - 5s - loss: 4.4848e-04 - 5s/epoch - 4ms/step\n",
            "Epoch 32/100\n",
            "1269/1269 - 4s - loss: 4.3913e-04 - 4s/epoch - 3ms/step\n",
            "Epoch 33/100\n",
            "1269/1269 - 4s - loss: 4.4503e-04 - 4s/epoch - 3ms/step\n",
            "Epoch 34/100\n",
            "1269/1269 - 4s - loss: 4.4160e-04 - 4s/epoch - 3ms/step\n",
            "Epoch 35/100\n",
            "1269/1269 - 2s - loss: 4.4112e-04 - 2s/epoch - 2ms/step\n",
            "Epoch 36/100\n",
            "1269/1269 - 2s - loss: 4.5166e-04 - 2s/epoch - 2ms/step\n",
            "Epoch 37/100\n",
            "1269/1269 - 2s - loss: 4.4198e-04 - 2s/epoch - 2ms/step\n",
            "Epoch 38/100\n",
            "1269/1269 - 2s - loss: 4.4691e-04 - 2s/epoch - 2ms/step\n",
            "Epoch 39/100\n",
            "1269/1269 - 2s - loss: 4.4838e-04 - 2s/epoch - 2ms/step\n",
            "Epoch 40/100\n",
            "1269/1269 - 2s - loss: 4.4265e-04 - 2s/epoch - 2ms/step\n",
            "Epoch 41/100\n",
            "1269/1269 - 2s - loss: 4.4218e-04 - 2s/epoch - 2ms/step\n",
            "Epoch 42/100\n",
            "1269/1269 - 2s - loss: 4.4809e-04 - 2s/epoch - 2ms/step\n",
            "Epoch 43/100\n",
            "1269/1269 - 3s - loss: 4.5849e-04 - 3s/epoch - 3ms/step\n",
            "Epoch 44/100\n",
            "1269/1269 - 4s - loss: 4.4432e-04 - 4s/epoch - 3ms/step\n",
            "Epoch 45/100\n",
            "1269/1269 - 4s - loss: 4.3990e-04 - 4s/epoch - 3ms/step\n",
            "Epoch 46/100\n",
            "1269/1269 - 4s - loss: 4.4862e-04 - 4s/epoch - 3ms/step\n",
            "Epoch 47/100\n",
            "1269/1269 - 3s - loss: 4.5693e-04 - 3s/epoch - 2ms/step\n",
            "Epoch 48/100\n",
            "1269/1269 - 3s - loss: 4.3763e-04 - 3s/epoch - 2ms/step\n",
            "Epoch 49/100\n",
            "1269/1269 - 2s - loss: 4.4200e-04 - 2s/epoch - 2ms/step\n",
            "Epoch 50/100\n",
            "1269/1269 - 2s - loss: 4.5310e-04 - 2s/epoch - 2ms/step\n",
            "Epoch 51/100\n",
            "1269/1269 - 2s - loss: 4.3418e-04 - 2s/epoch - 2ms/step\n",
            "Epoch 52/100\n",
            "1269/1269 - 3s - loss: 4.4734e-04 - 3s/epoch - 3ms/step\n",
            "Epoch 53/100\n",
            "1269/1269 - 4s - loss: 4.5776e-04 - 4s/epoch - 3ms/step\n",
            "Epoch 54/100\n",
            "1269/1269 - 3s - loss: 4.3054e-04 - 3s/epoch - 2ms/step\n",
            "Epoch 55/100\n",
            "1269/1269 - 4s - loss: 4.3452e-04 - 4s/epoch - 3ms/step\n",
            "Epoch 56/100\n",
            "1269/1269 - 4s - loss: 4.4304e-04 - 4s/epoch - 3ms/step\n",
            "Epoch 57/100\n",
            "1269/1269 - 3s - loss: 4.5272e-04 - 3s/epoch - 3ms/step\n",
            "Epoch 58/100\n",
            "1269/1269 - 3s - loss: 4.3776e-04 - 3s/epoch - 3ms/step\n",
            "Epoch 59/100\n",
            "1269/1269 - 3s - loss: 4.4475e-04 - 3s/epoch - 2ms/step\n",
            "Epoch 60/100\n",
            "1269/1269 - 2s - loss: 4.5188e-04 - 2s/epoch - 2ms/step\n",
            "Epoch 61/100\n",
            "1269/1269 - 2s - loss: 4.3781e-04 - 2s/epoch - 2ms/step\n",
            "Epoch 62/100\n",
            "1269/1269 - 2s - loss: 4.4951e-04 - 2s/epoch - 2ms/step\n",
            "Epoch 63/100\n",
            "1269/1269 - 2s - loss: 4.4007e-04 - 2s/epoch - 2ms/step\n",
            "Epoch 64/100\n",
            "1269/1269 - 2s - loss: 4.4941e-04 - 2s/epoch - 2ms/step\n",
            "Epoch 65/100\n",
            "1269/1269 - 2s - loss: 4.3369e-04 - 2s/epoch - 2ms/step\n",
            "Epoch 66/100\n",
            "1269/1269 - 2s - loss: 4.3954e-04 - 2s/epoch - 2ms/step\n",
            "Epoch 67/100\n",
            "1269/1269 - 3s - loss: 4.4119e-04 - 3s/epoch - 2ms/step\n",
            "Epoch 68/100\n",
            "1269/1269 - 2s - loss: 4.5145e-04 - 2s/epoch - 2ms/step\n",
            "Epoch 69/100\n",
            "1269/1269 - 3s - loss: 4.4210e-04 - 3s/epoch - 2ms/step\n",
            "Epoch 70/100\n",
            "1269/1269 - 2s - loss: 4.3809e-04 - 2s/epoch - 2ms/step\n",
            "Epoch 71/100\n",
            "1269/1269 - 3s - loss: 4.3719e-04 - 3s/epoch - 2ms/step\n",
            "Epoch 72/100\n",
            "1269/1269 - 3s - loss: 4.3463e-04 - 3s/epoch - 2ms/step\n",
            "Epoch 73/100\n",
            "1269/1269 - 3s - loss: 4.4392e-04 - 3s/epoch - 3ms/step\n",
            "Epoch 74/100\n",
            "1269/1269 - 3s - loss: 4.3655e-04 - 3s/epoch - 2ms/step\n",
            "Epoch 75/100\n",
            "1269/1269 - 2s - loss: 4.4887e-04 - 2s/epoch - 2ms/step\n",
            "Epoch 76/100\n",
            "1269/1269 - 3s - loss: 4.4707e-04 - 3s/epoch - 2ms/step\n",
            "Epoch 77/100\n",
            "1269/1269 - 3s - loss: 4.3964e-04 - 3s/epoch - 2ms/step\n",
            "Epoch 78/100\n",
            "1269/1269 - 2s - loss: 4.4174e-04 - 2s/epoch - 2ms/step\n",
            "Epoch 79/100\n",
            "1269/1269 - 2s - loss: 4.4215e-04 - 2s/epoch - 2ms/step\n",
            "Epoch 80/100\n",
            "1269/1269 - 2s - loss: 4.4282e-04 - 2s/epoch - 2ms/step\n",
            "Epoch 81/100\n",
            "1269/1269 - 2s - loss: 4.5251e-04 - 2s/epoch - 2ms/step\n",
            "Epoch 82/100\n",
            "1269/1269 - 2s - loss: 4.4056e-04 - 2s/epoch - 2ms/step\n",
            "Epoch 83/100\n",
            "1269/1269 - 2s - loss: 4.4880e-04 - 2s/epoch - 2ms/step\n",
            "Epoch 84/100\n",
            "1269/1269 - 2s - loss: 4.4523e-04 - 2s/epoch - 2ms/step\n",
            "Epoch 85/100\n",
            "1269/1269 - 2s - loss: 4.5603e-04 - 2s/epoch - 2ms/step\n",
            "Epoch 86/100\n",
            "1269/1269 - 2s - loss: 4.4849e-04 - 2s/epoch - 2ms/step\n",
            "Epoch 87/100\n",
            "1269/1269 - 2s - loss: 4.4343e-04 - 2s/epoch - 2ms/step\n",
            "Epoch 88/100\n",
            "1269/1269 - 2s - loss: 4.5055e-04 - 2s/epoch - 2ms/step\n",
            "Epoch 89/100\n",
            "1269/1269 - 2s - loss: 4.4306e-04 - 2s/epoch - 2ms/step\n",
            "Epoch 90/100\n",
            "1269/1269 - 2s - loss: 4.3994e-04 - 2s/epoch - 2ms/step\n",
            "Epoch 91/100\n",
            "1269/1269 - 2s - loss: 4.4005e-04 - 2s/epoch - 2ms/step\n",
            "Epoch 92/100\n",
            "1269/1269 - 2s - loss: 4.4597e-04 - 2s/epoch - 2ms/step\n",
            "Epoch 93/100\n",
            "1269/1269 - 2s - loss: 4.4675e-04 - 2s/epoch - 2ms/step\n",
            "Epoch 94/100\n",
            "1269/1269 - 2s - loss: 4.4967e-04 - 2s/epoch - 2ms/step\n",
            "Epoch 95/100\n",
            "1269/1269 - 2s - loss: 4.4140e-04 - 2s/epoch - 2ms/step\n",
            "Epoch 96/100\n",
            "1269/1269 - 2s - loss: 4.4047e-04 - 2s/epoch - 2ms/step\n",
            "Epoch 97/100\n",
            "1269/1269 - 2s - loss: 4.4349e-04 - 2s/epoch - 2ms/step\n",
            "Epoch 98/100\n",
            "1269/1269 - 2s - loss: 4.4637e-04 - 2s/epoch - 2ms/step\n",
            "Epoch 99/100\n",
            "1269/1269 - 3s - loss: 4.4795e-04 - 3s/epoch - 2ms/step\n",
            "Epoch 100/100\n",
            "1269/1269 - 2s - loss: 4.4612e-04 - 2s/epoch - 2ms/step\n"
          ]
        },
        {
          "output_type": "execute_result",
          "data": {
            "text/plain": [
              "<keras.callbacks.History at 0x7f19a570dd90>"
            ]
          },
          "metadata": {},
          "execution_count": 53
        }
      ]
    },
    {
      "cell_type": "code",
      "source": [
        "prediction = model.predict(x_test)\n",
        "prediction = scaler.inverse_transform(prediction)\n",
        "prediction"
      ],
      "metadata": {
        "id": "xz_z2K3wwneo",
        "outputId": "39dc6dec-7e23-485b-9fa3-ce8bc1925fa9",
        "colab": {
          "base_uri": "https://localhost:8080/"
        }
      },
      "execution_count": null,
      "outputs": [
        {
          "output_type": "stream",
          "name": "stdout",
          "text": [
            "WARNING:tensorflow:5 out of the last 6 calls to <function Model.make_predict_function.<locals>.predict_function at 0x7f19a54747a0> triggered tf.function retracing. Tracing is expensive and the excessive number of tracings could be due to (1) creating @tf.function repeatedly in a loop, (2) passing tensors with different shapes, (3) passing Python objects instead of tensors. For (1), please define your @tf.function outside of the loop. For (2), @tf.function has experimental_relax_shapes=True option that relaxes argument shapes that can avoid unnecessary retracing. For (3), please refer to https://www.tensorflow.org/guide/function#controlling_retracing and https://www.tensorflow.org/api_docs/python/tf/function for  more details.\n"
          ]
        },
        {
          "output_type": "execute_result",
          "data": {
            "text/plain": [
              "array([[6.3930526],\n",
              "       [6.3943806],\n",
              "       [6.3840675],\n",
              "       [6.3873725],\n",
              "       [6.395899 ],\n",
              "       [6.382465 ],\n",
              "       [6.3901157],\n",
              "       [6.3912516],\n",
              "       [6.3894534],\n",
              "       [6.395614 ],\n",
              "       [6.396564 ],\n",
              "       [6.3910627],\n",
              "       [6.3967543],\n",
              "       [6.3920097],\n",
              "       [6.3696012],\n",
              "       [6.3734407],\n",
              "       [6.38124  ],\n",
              "       [6.380957 ],\n",
              "       [6.3804865],\n",
              "       [6.3725033],\n",
              "       [6.3514657],\n",
              "       [6.3820877],\n",
              "       [6.366611 ],\n",
              "       [6.371754 ],\n",
              "       [6.37269  ],\n",
              "       [6.37269  ],\n",
              "       [6.373347 ],\n",
              "       [6.3797336]], dtype=float32)"
            ]
          },
          "metadata": {},
          "execution_count": 54
        }
      ]
    },
    {
      "cell_type": "code",
      "source": [
        "y_test = np.array(y_test).reshape(-1,1)\n",
        "y_test = scaler.inverse_transform(y_test)"
      ],
      "metadata": {
        "id": "6pTJ6198xcQg"
      },
      "execution_count": null,
      "outputs": []
    },
    {
      "cell_type": "code",
      "source": [
        "#Visualizing the results\n",
        "plt.figure(figsize=(14,5))\n",
        "plt.title('Foreign Exchange Rate')\n",
        "plt.plot(y_test , label = 'Actual', color = 'g')\n",
        "plt.plot(prediction , label = 'Predicted', color = 'r')\n",
        "plt.legend()"
      ],
      "metadata": {
        "id": "hqPabxL7xgVM",
        "outputId": "d0960b82-a3d5-4ac5-d800-c1ddd4e95928",
        "colab": {
          "base_uri": "https://localhost:8080/",
          "height": 353
        }
      },
      "execution_count": null,
      "outputs": [
        {
          "output_type": "execute_result",
          "data": {
            "text/plain": [
              "<matplotlib.legend.Legend at 0x7f19a530ed10>"
            ]
          },
          "metadata": {},
          "execution_count": 56
        },
        {
          "output_type": "display_data",
          "data": {
            "image/png": "[encoded data removed]",
            "text/plain": [
              "<Figure size 1008x360 with 1 Axes>"
            ]
          },
          "metadata": {
            "needs_background": "light"
          }
        }
      ]
    },
    {
      "cell_type": "code",
      "source": [
        "mean_squared_error(y_test, prediction)"
      ],
      "metadata": {
        "id": "ZmXx9V4Wxx3K",
        "outputId": "e2b9ee7a-cf45-4ebf-8b10-39c96e375053",
        "colab": {
          "base_uri": "https://localhost:8080/"
        }
      },
      "execution_count": null,
      "outputs": [
        {
          "output_type": "execute_result",
          "data": {
            "text/plain": [
              "0.00014703965311062866"
            ]
          },
          "metadata": {},
          "execution_count": 57
        }
      ]
    },
    {
      "cell_type": "code",
      "source": [
        "mean_absolute_error(y_test, prediction)"
      ],
      "metadata": {
        "colab": {
          "base_uri": "https://localhost:8080/"
        },
        "id": "pYd6_BIsBc6A",
        "outputId": "0bf64fd7-7d3f-4338-fb7a-8c026357a181"
      },
      "execution_count": null,
      "outputs": [
        {
          "output_type": "execute_result",
          "data": {
            "text/plain": [
              "0.008684158325195312"
            ]
          },
          "metadata": {},
          "execution_count": 58
        }
      ]
    },
    {
      "cell_type": "code",
      "source": [
        "# rmse\n",
        "np.sqrt(mean_squared_error(y_test, prediction))"
      ],
      "metadata": {
        "id": "Wud0_o_ncCD1"
      },
      "execution_count": null,
      "outputs": []
    },
    {
      "cell_type": "code",
      "source": [
        "# Arima\n",
        "data = df.reset_index()[['Date', 'Close']]\n",
        "X_train, X_test = data[:-30], data[-30:]\n",
        "data"
      ],
      "metadata": {
        "id": "360wK-R_9ogY",
        "colab": {
          "base_uri": "https://localhost:8080/",
          "height": 423
        },
        "outputId": "cae6cce9-3b97-4472-a469-a2fad494ac70"
      },
      "execution_count": null,
      "outputs": [
        {
          "output_type": "execute_result",
          "data": {
            "text/html": [
              "\n",
              "  <div id=\"df-ddf3b10a-5b27-49da-ae8c-4e38435410b3\">\n",
              "    <div class=\"colab-df-container\">\n",
              "      <div>\n",
              "<style scoped>\n",
              "    .dataframe tbody tr th:only-of-type {\n",
              "        vertical-align: middle;\n",
              "    }\n",
              "\n",
              "    .dataframe tbody tr th {\n",
              "        vertical-align: top;\n",
              "    }\n",
              "\n",
              "    .dataframe thead th {\n",
              "        text-align: right;\n",
              "    }\n",
              "</style>\n",
              "<table border=\"1\" class=\"dataframe\">\n",
              "  <thead>\n",
              "    <tr style=\"text-align: right;\">\n",
              "      <th></th>\n",
              "      <th>Date</th>\n",
              "      <th>Close</th>\n",
              "    </tr>\n",
              "  </thead>\n",
              "  <tbody>\n",
              "    <tr>\n",
              "      <th>0</th>\n",
              "      <td>2016-12-22</td>\n",
              "      <td>6.9414</td>\n",
              "    </tr>\n",
              "    <tr>\n",
              "      <th>1</th>\n",
              "      <td>2016-12-23</td>\n",
              "      <td>6.9404</td>\n",
              "    </tr>\n",
              "    <tr>\n",
              "      <th>2</th>\n",
              "      <td>2016-12-26</td>\n",
              "      <td>6.9453</td>\n",
              "    </tr>\n",
              "    <tr>\n",
              "      <th>3</th>\n",
              "      <td>2016-12-27</td>\n",
              "      <td>6.9447</td>\n",
              "    </tr>\n",
              "    <tr>\n",
              "      <th>4</th>\n",
              "      <td>2016-12-28</td>\n",
              "      <td>6.9425</td>\n",
              "    </tr>\n",
              "    <tr>\n",
              "      <th>...</th>\n",
              "      <td>...</td>\n",
              "      <td>...</td>\n",
              "    </tr>\n",
              "    <tr>\n",
              "      <th>1296</th>\n",
              "      <td>2021-12-16</td>\n",
              "      <td>6.3665</td>\n",
              "    </tr>\n",
              "    <tr>\n",
              "      <th>1297</th>\n",
              "      <td>2021-12-17</td>\n",
              "      <td>6.3672</td>\n",
              "    </tr>\n",
              "    <tr>\n",
              "      <th>1298</th>\n",
              "      <td>2021-12-20</td>\n",
              "      <td>6.3740</td>\n",
              "    </tr>\n",
              "    <tr>\n",
              "      <th>1299</th>\n",
              "      <td>2021-12-21</td>\n",
              "      <td>6.3746</td>\n",
              "    </tr>\n",
              "    <tr>\n",
              "      <th>1300</th>\n",
              "      <td>2021-12-22</td>\n",
              "      <td>6.3695</td>\n",
              "    </tr>\n",
              "  </tbody>\n",
              "</table>\n",
              "<p>1301 rows × 2 columns</p>\n",
              "</div>\n",
              "      <button class=\"colab-df-convert\" onclick=\"convertToInteractive('df-ddf3b10a-5b27-49da-ae8c-4e38435410b3')\"\n",
              "              title=\"Convert this dataframe to an interactive table.\"\n",
              "              style=\"display:none;\">\n",
              "        \n",
              "  <svg xmlns=\"http://www.w3.org/2000/svg\" height=\"24px\"viewBox=\"0 0 24 24\"\n",
              "       width=\"24px\">\n",
              "    <path d=\"M0 0h24v24H0V0z\" fill=\"none\"/>\n",
              "    <path d=\"M18.56 5.44l.94 2.06.94-2.06 2.06-.94-2.06-.94-.94-2.06-.94 2.06-2.06.94zm-11 1L8.5 8.5l.94-2.06 2.06-.94-2.06-.94L8.5 2.5l-.94 2.06-2.06.94zm10 10l.94 2.06.94-2.06 2.06-.94-2.06-.94-.94-2.06-.94 2.06-2.06.94z\"/><path d=\"M17.41 7.96l-1.37-1.37c-.4-.4-.92-.59-1.43-.59-.52 0-1.04.2-1.43.59L10.3 9.45l-7.72 7.72c-.78.78-.78 2.05 0 2.83L4 21.41c.39.39.9.59 1.41.59.51 0 1.02-.2 1.41-.59l7.78-7.78 2.81-2.81c.8-.78.8-2.07 0-2.86zM5.41 20L4 18.59l7.72-7.72 1.47 1.35L5.41 20z\"/>\n",
              "  </svg>\n",
              "      </button>\n",
              "      \n",
              "  <style>\n",
              "    .colab-df-container {\n",
              "      display:flex;\n",
              "      flex-wrap:wrap;\n",
              "      gap: 12px;\n",
              "    }\n",
              "\n",
              "    .colab-df-convert {\n",
              "      background-color: #E8F0FE;\n",
              "      border: none;\n",
              "      border-radius: 50%;\n",
              "      cursor: pointer;\n",
              "      display: none;\n",
              "      fill: #1967D2;\n",
              "      height: 32px;\n",
              "      padding: 0 0 0 0;\n",
              "      width: 32px;\n",
              "    }\n",
              "\n",
              "    .colab-df-convert:hover {\n",
              "      background-color: #E2EBFA;\n",
              "      box-shadow: 0px 1px 2px rgba(60, 64, 67, 0.3), 0px 1px 3px 1px rgba(60, 64, 67, 0.15);\n",
              "      fill: #174EA6;\n",
              "    }\n",
              "\n",
              "    [theme=dark] .colab-df-convert {\n",
              "      background-color: #3B4455;\n",
              "      fill: #D2E3FC;\n",
              "    }\n",
              "\n",
              "    [theme=dark] .colab-df-convert:hover {\n",
              "      background-color: #434B5C;\n",
              "      box-shadow: 0px 1px 3px 1px rgba(0, 0, 0, 0.15);\n",
              "      filter: drop-shadow(0px 1px 2px rgba(0, 0, 0, 0.3));\n",
              "      fill: #FFFFFF;\n",
              "    }\n",
              "  </style>\n",
              "\n",
              "      <script>\n",
              "        const buttonEl =\n",
              "          document.querySelector('#df-ddf3b10a-5b27-49da-ae8c-4e38435410b3 button.colab-df-convert');\n",
              "        buttonEl.style.display =\n",
              "          google.colab.kernel.accessAllowed ? 'block' : 'none';\n",
              "\n",
              "        async function convertToInteractive(key) {\n",
              "          const element = document.querySelector('#df-ddf3b10a-5b27-49da-ae8c-4e38435410b3');\n",
              "          const dataTable =\n",
              "            await google.colab.kernel.invokeFunction('convertToInteractive',\n",
              "                                                     [key], {});\n",
              "          if (!dataTable) return;\n",
              "\n",
              "          const docLinkHtml = 'Like what you see? Visit the ' +\n",
              "            '<a target=\"_blank\" href=https://colab.research.google.com/notebooks/data_table.ipynb>data table notebook</a>'\n",
              "            + ' to learn more about interactive tables.';\n",
              "          element.innerHTML = '';\n",
              "          dataTable['output_type'] = 'display_data';\n",
              "          await google.colab.output.renderOutput(dataTable, element);\n",
              "          const docLink = document.createElement('div');\n",
              "          docLink.innerHTML = docLinkHtml;\n",
              "          element.appendChild(docLink);\n",
              "        }\n",
              "      </script>\n",
              "    </div>\n",
              "  </div>\n",
              "  "
            ],
            "text/plain": [
              "           Date   Close\n",
              "0    2016-12-22  6.9414\n",
              "1    2016-12-23  6.9404\n",
              "2    2016-12-26  6.9453\n",
              "3    2016-12-27  6.9447\n",
              "4    2016-12-28  6.9425\n",
              "...         ...     ...\n",
              "1296 2021-12-16  6.3665\n",
              "1297 2021-12-17  6.3672\n",
              "1298 2021-12-20  6.3740\n",
              "1299 2021-12-21  6.3746\n",
              "1300 2021-12-22  6.3695\n",
              "\n",
              "[1301 rows x 2 columns]"
            ]
          },
          "metadata": {},
          "execution_count": 36
        }
      ]
    },
    {
      "cell_type": "code",
      "source": [
        "prediction = []\n",
        "\n",
        "arima = sm.tsa.statespace.SARIMAX(X_train.Close,order=(1,1,1),seasonal_order=(1,1,1,6),\n",
        "                                  enforce_stationarity=False, enforce_invertibility=False,).fit()\n",
        "#get a 30 days prediction\n",
        "prediction.append(arima.forecast(30))\n",
        "prediction = np.array(predictions).reshape((30,))"
      ],
      "metadata": {
        "id": "vjUcl9yf-Trh"
      },
      "execution_count": null,
      "outputs": []
    },
    {
      "cell_type": "code",
      "source": [
        "y_test = data.Close[-30:]\n",
        "plt.figure(figsize=(14,5))\n",
        "plt.plot(np.arange(len(y_test)), y_test, color='g');\n",
        "plt.plot(np.arange(len(y_test)), prediction, color='r');\n",
        "plt.legend(['Actual', 'Predicted']);"
      ],
      "metadata": {
        "colab": {
          "base_uri": "https://localhost:8080/",
          "height": 320
        },
        "id": "9CO8sAIgAGsb",
        "outputId": "de2cbd58-c989-4d9b-a9a0-f0648d514fab"
      },
      "execution_count": null,
      "outputs": [
        {
          "output_type": "display_data",
          "data": {
            "image/png": "[encoded data removed]",
            "text/plain": [
              "<Figure size 720x360 with 1 Axes>"
            ]
          },
          "metadata": {
            "needs_background": "light"
          }
        }
      ]
    },
    {
      "cell_type": "code",
      "source": [
        "# mae\n",
        "mean_absolute_error(y_test, prediction)"
      ],
      "metadata": {
        "colab": {
          "base_uri": "https://localhost:8080/"
        },
        "id": "wGLc9tJpANdN",
        "outputId": "e9eb7481-2740-4a6e-9d72-ff69c57f919b"
      },
      "execution_count": null,
      "outputs": [
        {
          "output_type": "execute_result",
          "data": {
            "text/plain": [
              "0.009044196864336839"
            ]
          },
          "metadata": {},
          "execution_count": 43
        }
      ]
    },
    {
      "cell_type": "code",
      "source": [
        "# mse\n",
        "mean_squared_error(y_test, prediction)"
      ],
      "metadata": {
        "colab": {
          "base_uri": "https://localhost:8080/"
        },
        "id": "r0cfRiLdb4Jz",
        "outputId": "ae14b347-a0b6-4a9a-d1d9-ffa93d742e58"
      },
      "execution_count": null,
      "outputs": [
        {
          "output_type": "execute_result",
          "data": {
            "text/plain": [
              "0.00014605271953963117"
            ]
          },
          "metadata": {},
          "execution_count": 44
        }
      ]
    },
    {
      "cell_type": "code",
      "source": [
        "# rmse\n",
        "np.sqrt(mean_squared_error(y_test, prediction))"
      ],
      "metadata": {
        "colab": {
          "base_uri": "https://localhost:8080/"
        },
        "id": "67AASBoEb5hS",
        "outputId": "1897fac8-d464-4773-93a0-cc56b2658e47"
      },
      "execution_count": null,
      "outputs": [
        {
          "output_type": "execute_result",
          "data": {
            "text/plain": [
              "0.012085227326766807"
            ]
          },
          "metadata": {},
          "execution_count": 45
        }
      ]
    }
  ]
}